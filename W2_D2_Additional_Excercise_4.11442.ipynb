{
 "cells": [
  {
   "cell_type": "markdown",
   "metadata": {},
   "source": [
    "### Problem 1"
   ]
  },
  {
   "cell_type": "code",
   "execution_count": 1,
   "metadata": {},
   "outputs": [],
   "source": [
    "def reciprocal(input):\n",
    "    try:\n",
    "        number = int(input)\n",
    "        res = 1 / number\n",
    "        print(\"The entry is: \", number)\n",
    "        print(\"The reciprocal of {} is {}\".format(number, res))\n",
    "    except ValueError:\n",
    "        print(\"Oops! <class 'ValueError'> occured.\\nNext entry.\")\n",
    "    except ZeroDivisionError:\n",
    "        print(\"Oops! <class 'ZeroDivisionError'> occured.\\nNext entry.\")"
   ]
  },
  {
   "cell_type": "code",
   "execution_count": 2,
   "metadata": {},
   "outputs": [
    {
     "name": "stdout",
     "output_type": "stream",
     "text": [
      "Oops! <class 'ValueError'> occured.\n",
      "Next entry.\n",
      "Oops! <class 'ZeroDivisionError'> occured.\n",
      "Next entry.\n",
      "The entry is:  2\n",
      "The reciprocal of 2 is 0.5\n"
     ]
    }
   ],
   "source": [
    "lst = ['a', 0, 2]\n",
    "for item in lst:\n",
    "    reciprocal(item)"
   ]
  },
  {
   "cell_type": "markdown",
   "metadata": {},
   "source": [
    "### Problem 2"
   ]
  },
  {
   "cell_type": "code",
   "execution_count": 3,
   "metadata": {},
   "outputs": [
    {
     "name": "stdout",
     "output_type": "stream",
     "text": [
      "Value at index 0 is 5\n",
      "Value at index 1 is 6\n",
      "Value at index 2 is 7\n",
      "Value at index 3 is 8\n",
      "Array Out of Bound\n"
     ]
    }
   ],
   "source": [
    "import numpy as np\n",
    "def printArray(nos_array, index_range):\n",
    "    try:\n",
    "        for index in index_range:\n",
    "            print(\"Value at index {} is {}\".format(index, nos_array[index]))\n",
    "    except IndexError:\n",
    "        print(\"Array Out of Bound\")\n",
    "\n",
    "lst = [5, 6, 7, 8]\n",
    "index_range = range(5)\n",
    "printArray(lst, index_range)"
   ]
  },
  {
   "cell_type": "markdown",
   "metadata": {},
   "source": [
    "### Note: Please find problem 3 and problem 4 in fibonacci.py and palindrome.py files respectivily"
   ]
  },
  {
   "cell_type": "code",
   "execution_count": null,
   "metadata": {},
   "outputs": [],
   "source": []
  }
 ],
 "metadata": {
  "kernelspec": {
   "display_name": "Python 3",
   "language": "python",
   "name": "python3"
  },
  "language_info": {
   "codemirror_mode": {
    "name": "ipython",
    "version": 3
   },
   "file_extension": ".py",
   "mimetype": "text/x-python",
   "name": "python",
   "nbconvert_exporter": "python",
   "pygments_lexer": "ipython3",
   "version": "3.7.0"
  }
 },
 "nbformat": 4,
 "nbformat_minor": 2
}
